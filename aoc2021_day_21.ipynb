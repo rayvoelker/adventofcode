{
  "nbformat": 4,
  "nbformat_minor": 0,
  "metadata": {
    "colab": {
      "name": "aoc2021-day_21.ipynb",
      "provenance": [],
      "collapsed_sections": [],
      "authorship_tag": "ABX9TyNTr9eaQDGIEF7RUjjQukZU",
      "include_colab_link": true
    },
    "kernelspec": {
      "name": "python3",
      "display_name": "Python 3"
    },
    "language_info": {
      "name": "python"
    }
  },
  "cells": [
    {
      "cell_type": "markdown",
      "metadata": {
        "id": "view-in-github",
        "colab_type": "text"
      },
      "source": [
        "<a href=\"https://colab.research.google.com/github/rayvoelker/adventofcode/blob/main/aoc2021_day_21.ipynb\" target=\"_parent\"><img src=\"https://colab.research.google.com/assets/colab-badge.svg\" alt=\"Open In Colab\"/></a>"
      ]
    },
    {
      "cell_type": "markdown",
      "metadata": {
        "id": "TlGPuI8Dl0qs"
      },
      "source": [
        "https://adventofcode.com/2021/day/21"
      ]
    },
    {
      "cell_type": "code",
      "source": [
        "from collections import deque\n",
        "\n",
        "dice = deque([i for i in range(1, 101)])\n",
        "\n",
        "player_1_space = deque([i for i in range(1, 11)])\n",
        "player_2_space = deque([i for i in range(1, 11)])\n",
        "\n",
        "# Player 1 starting position: 4\n",
        "# Player 2 starting position: 8\n",
        "# player_1_space.rotate(-3)\n",
        "# player_2_space.rotate(-7)\n",
        "\n",
        "# Player 1 starting position: 8\n",
        "# Player 2 starting position: 7\n",
        "player_1_space.rotate(-7)\n",
        "player_2_space.rotate(-6)\n",
        "\n",
        "player_1_points = 0\n",
        "player_2_points = 0\n",
        "\n",
        "print('1:', player_1_space[0])\n",
        "print('2:', player_2_space[0])"
      ],
      "metadata": {
        "id": "HbQ1IBgHDTed",
        "colab": {
          "base_uri": "https://localhost:8080/"
        },
        "outputId": "e2d66b93-7642-4e62-96cc-edd9ec3c6eac"
      },
      "execution_count": 1,
      "outputs": [
        {
          "output_type": "stream",
          "name": "stdout",
          "text": [
            "1: 8\n",
            "2: 7\n"
          ]
        }
      ]
    },
    {
      "cell_type": "code",
      "source": [
        "# part 1\n",
        "count = 0\n",
        "\n",
        "while True:\n",
        "  # print(dice[0], dice[1], dice[2], '=', sum([dice[0], dice[1], dice[2]]))\n",
        "  dice.rotate(-3)\n",
        "\n",
        "  player_1_space.rotate(sum([dice[0], dice[1], dice[2]], 1) * -1)\n",
        "  # print(player_1_space[0])\n",
        "  player_1_points += player_1_space[0]\n",
        "\n",
        "  # print('player_1_points:', player_1_points)\n",
        "\n",
        "  count += 3\n",
        "\n",
        "  if player_1_points >= 1000:\n",
        "    print(count, player_2_points)\n",
        "    break\n",
        "\n",
        "  ###\n",
        "\n",
        "  # print(dice[0], dice[1], dice[2], '=', sum([dice[0], dice[1], dice[2]]))\n",
        "  dice.rotate(-3)\n",
        "\n",
        "  player_2_space.rotate(sum([dice[0], dice[1], dice[2]], 1) * -1)\n",
        "  # print(player_2_space[0])\n",
        "  player_2_points += player_2_space[0]\n",
        "\n",
        "  # print('player_2_points:', player_2_points)\n",
        "\n",
        "  count += 3\n",
        "\n",
        "  if player_2_points >= 1000:\n",
        "    print(count, player_1_points)\n",
        "    break"
      ],
      "metadata": {
        "colab": {
          "base_uri": "https://localhost:8080/"
        },
        "id": "u4xnDLdGEbrM",
        "outputId": "d0787618-75f8-4063-918f-19375c967704"
      },
      "execution_count": 2,
      "outputs": [
        {
          "output_type": "stream",
          "name": "stdout",
          "text": [
            "747 678\n"
          ]
        }
      ]
    },
    {
      "cell_type": "code",
      "source": [
        "747 * 678"
      ],
      "metadata": {
        "colab": {
          "base_uri": "https://localhost:8080/"
        },
        "id": "LefBSs-YRctH",
        "outputId": "24bfef2d-bb82-4a36-a636-61715beee384"
      },
      "execution_count": 3,
      "outputs": [
        {
          "output_type": "execute_result",
          "data": {
            "text/plain": [
              "506466"
            ]
          },
          "metadata": {},
          "execution_count": 3
        }
      ]
    }
  ]
}