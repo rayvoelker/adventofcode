{
  "nbformat": 4,
  "nbformat_minor": 0,
  "metadata": {
    "colab": {
      "name": "aoc2021-day_01.ipynb",
      "provenance": [],
      "collapsed_sections": [],
      "authorship_tag": "ABX9TyOa9EU5j7WZaO+irgfDRfyA",
      "include_colab_link": true
    },
    "kernelspec": {
      "name": "python3",
      "display_name": "Python 3"
    },
    "language_info": {
      "name": "python"
    }
  },
  "cells": [
    {
      "cell_type": "markdown",
      "metadata": {
        "id": "view-in-github",
        "colab_type": "text"
      },
      "source": [
        "<a href=\"https://colab.research.google.com/github/rayvoelker/adventofcode2020/blob/main/aoc2021_day_01.ipynb\" target=\"_parent\"><img src=\"https://colab.research.google.com/assets/colab-badge.svg\" alt=\"Open In Colab\"/></a>"
      ]
    },
    {
      "cell_type": "code",
      "metadata": {
        "id": "H6feyxXBVRRj"
      },
      "source": [
        "token = input(\"Your access token: \")"
      ],
      "execution_count": null,
      "outputs": []
    },
    {
      "cell_type": "code",
      "metadata": {
        "id": "znNBfLxRVXcJ"
      },
      "source": [
        "import requests\n",
        "\n",
        "# set the value for `token` from what you pull out of your logged-in browser's cookies\n",
        "input = requests.get(\n",
        "    'https://adventofcode.com/2021/day/1/input', \n",
        "    cookies={\"session\":token}\n",
        ").text\n",
        "\n",
        "# take the text\n",
        "input_list = [int(line) for line in input.split()]\n",
        "\n",
        "# show the first 5 values in the input\n",
        "print(input_list[:5])"
      ],
      "execution_count": null,
      "outputs": []
    },
    {
      "cell_type": "code",
      "metadata": {
        "id": "nLJGYooxW_Ui"
      },
      "source": [
        "# part 1\n",
        "\n",
        "count = 0\n",
        "\n",
        "start = input_list[0]\n",
        "\n",
        "for i in input_list:\n",
        "    if i > start:\n",
        "      count += 1\n",
        "    start = i\n",
        "\n",
        "print('---\\n', count, sep='')"
      ],
      "execution_count": null,
      "outputs": []
    },
    {
      "cell_type": "code",
      "metadata": {
        "id": "qdT-6xX2hsFf"
      },
      "source": [
        "# part 2\n",
        "windows = []\n",
        "for i in range(len(input_list)-2):\n",
        "  # print(sum([input[i], input[i+1], input[i+2]]))\n",
        "  windows.append(sum([input_list[i], input_list[i+1], input_list[i+2]]))\n",
        "\n",
        "count = 0\n",
        "\n",
        "for i, window in enumerate(windows):\n",
        "  if i > 0:\n",
        "    if window > windows[i-1]:\n",
        "      # print(windows[i-1], window, 'increase')\n",
        "      count+=1\n",
        "    # else:\n",
        "      # pass\n",
        "      # print(windows[i-1], window, ' --- ')\n",
        "\n",
        "print(count)"
      ],
      "execution_count": null,
      "outputs": []
    }
  ]
}