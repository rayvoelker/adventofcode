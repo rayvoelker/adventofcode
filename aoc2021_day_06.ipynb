{
  "nbformat": 4,
  "nbformat_minor": 0,
  "metadata": {
    "colab": {
      "name": "aoc2021-day_06.ipynb",
      "provenance": [],
      "collapsed_sections": [],
      "authorship_tag": "ABX9TyNAJOB5z1oaJOioGZZuX7dd",
      "include_colab_link": true
    },
    "kernelspec": {
      "name": "python3",
      "display_name": "Python 3"
    },
    "language_info": {
      "name": "python"
    }
  },
  "cells": [
    {
      "cell_type": "markdown",
      "metadata": {
        "id": "view-in-github",
        "colab_type": "text"
      },
      "source": [
        "<a href=\"https://colab.research.google.com/github/rayvoelker/adventofcode/blob/main/aoc2021_day_06.ipynb\" target=\"_parent\"><img src=\"https://colab.research.google.com/assets/colab-badge.svg\" alt=\"Open In Colab\"/></a>"
      ]
    },
    {
      "cell_type": "markdown",
      "metadata": {
        "id": "TlGPuI8Dl0qs"
      },
      "source": [
        "https://adventofcode.com/2021/day/6\n"
      ]
    },
    {
      "cell_type": "code",
      "metadata": {
        "id": "H6feyxXBVRRj"
      },
      "source": [
        "token = input(\"Your access token: \")"
      ],
      "execution_count": null,
      "outputs": []
    },
    {
      "cell_type": "code",
      "metadata": {
        "id": "znNBfLxRVXcJ"
      },
      "source": [
        "import requests\n",
        "\n",
        "# set the value for `token` from what you pull out of your logged-in browser's cookies\n",
        "input = requests.get(\n",
        "    'https://adventofcode.com/2021/day/6/input', \n",
        "    cookies={\"session\":token}\n",
        ").text\n",
        "\n",
        "# take the text\n",
        "input_list = [eval(line) for line in input.split(',')]\n",
        "\n",
        "# show the first 5 values in the input\n",
        "print(input_list[:5])"
      ],
      "execution_count": null,
      "outputs": []
    },
    {
      "cell_type": "code",
      "source": [
        "from collections import deque"
      ],
      "metadata": {
        "id": "reMibVm11hzr"
      },
      "execution_count": null,
      "outputs": []
    },
    {
      "cell_type": "code",
      "source": [
        "# part 1\n",
        "state = deque([3,4,3,1,2])\n",
        "\n",
        "# state = deque(input_list)\n",
        "\n",
        "for i in range(80):\n",
        "  print('Day ', i, \": \", len(state))\n",
        "  # print('After day ', i, \": \", end='')\n",
        "  spawns = []\n",
        "  for j, timer in enumerate(state):\n",
        "    state[j]+=-1\n",
        "    if state[j] == -1:\n",
        "      state[j] = 6\n",
        "      spawns.append(8)\n",
        "    \n",
        "    # print(timer,end=',')\n",
        "  for spawn in spawns:\n",
        "    state.append(spawn)\n",
        "  # print(len(state), [val for val in state], )\n",
        "\n",
        "print(i, len(state), ) # [val for val in state]"
      ],
      "metadata": {
        "id": "KupFKt0U1z20"
      },
      "execution_count": null,
      "outputs": []
    },
    {
      "cell_type": "code",
      "source": [
        "# part 2\n",
        "# timers is a list of the counts of laternfish that are at that count\n",
        "timers = [0 for i in range(9)]\n",
        "print(timers)\n",
        "\n",
        "# state = [3,4,3,1,2]\n",
        "state = input_list\n",
        "\n",
        "for timer in state:\n",
        "  timers[timer]+=1\n",
        "\n",
        "for j in range(256):\n",
        "  temp_timers = [0 for i in range(9)]\n",
        "  for i, timer in enumerate(timers):\n",
        "    # print(i, timer)\n",
        "    if i==0:\n",
        "      temp_timers[6]+=timer\n",
        "      temp_timers[8]+=timer\n",
        "    elif i==7:\n",
        "      temp_timers[6]+=timer\n",
        "    else:\n",
        "      temp_timers[i-1]+=timer\n",
        "  timers=temp_timers\n",
        "  print(sum(timers))"
      ],
      "metadata": {
        "id": "s3hojVxm-QR6"
      },
      "execution_count": null,
      "outputs": []
    }
  ]
}