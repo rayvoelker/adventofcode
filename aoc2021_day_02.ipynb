{
  "nbformat": 4,
  "nbformat_minor": 0,
  "metadata": {
    "colab": {
      "name": "aoc2021-day_02.ipynb",
      "provenance": [],
      "collapsed_sections": [],
      "authorship_tag": "ABX9TyMq0b0DRONhUFdMEshVzG1s",
      "include_colab_link": true
    },
    "kernelspec": {
      "name": "python3",
      "display_name": "Python 3"
    },
    "language_info": {
      "name": "python"
    }
  },
  "cells": [
    {
      "cell_type": "markdown",
      "metadata": {
        "id": "view-in-github",
        "colab_type": "text"
      },
      "source": [
        "<a href=\"https://colab.research.google.com/github/rayvoelker/adventofcode/blob/main/aoc2021_day_02.ipynb\" target=\"_parent\"><img src=\"https://colab.research.google.com/assets/colab-badge.svg\" alt=\"Open In Colab\"/></a>"
      ]
    },
    {
      "cell_type": "markdown",
      "metadata": {
        "id": "TlGPuI8Dl0qs"
      },
      "source": [
        "https://adventofcode.com/2021/day/2"
      ]
    },
    {
      "cell_type": "code",
      "metadata": {
        "id": "H6feyxXBVRRj"
      },
      "source": [
        "token = input(\"Your access token: \")"
      ],
      "execution_count": null,
      "outputs": []
    },
    {
      "cell_type": "code",
      "metadata": {
        "id": "znNBfLxRVXcJ"
      },
      "source": [
        "import requests\n",
        "\n",
        "# set the value for `token` from what you pull out of your logged-in browser's cookies\n",
        "input = requests.get(\n",
        "    'https://adventofcode.com/2021/day/2/input', \n",
        "    cookies={\"session\":token}\n",
        ").text\n",
        "\n",
        "# take the text\n",
        "input_list = [line for line in input.split()]\n",
        "\n",
        "# show the first 5 values in the input\n",
        "print(input_list[:5])"
      ],
      "execution_count": null,
      "outputs": []
    },
    {
      "cell_type": "code",
      "metadata": {
        "id": "nLJGYooxW_Ui"
      },
      "source": [
        "# part 1\n",
        "\n",
        "input_list_test = [\n",
        " 'forward', '5', \n",
        " 'down', '5',\n",
        " 'forward', '8',\n",
        " 'up', '3',\n",
        " 'down', '8',\n",
        " 'forward', '2',\n",
        "]\n",
        "\n",
        "horizontal = 0\n",
        "depth = 0\n",
        "\n",
        "for i in range(0, len(input_list_test) - 1, 2):\n",
        "  direction = input_list_test[i]\n",
        "  move = int(input_list_test[i+1])\n",
        "  print(direction, move)\n",
        "\n",
        "  if (direction == 'forward'):\n",
        "    horizontal += move\n",
        "  elif (direction == 'down'):\n",
        "    depth += move\n",
        "  elif (direction == 'up'):\n",
        "    depth -= move\n",
        "\n",
        "print(horizontal, depth, ' -- ', horizontal*depth)\n",
        "\n",
        "###\n",
        "\n",
        "horizontal = 0\n",
        "depth = 0\n",
        "\n",
        "for i in range(0, len(input_list) - 1, 2):\n",
        "  direction = input_list[i]\n",
        "  move = int(input_list[i+1])\n",
        "  # print(direction, move)\n",
        "\n",
        "  if (direction == 'forward'):\n",
        "    horizontal += move\n",
        "  elif (direction == 'down'):\n",
        "    depth += move\n",
        "  elif (direction == 'up'):\n",
        "    depth -= move\n",
        "\n",
        "print(horizontal, depth, ' -- ', horizontal*depth)"
      ],
      "execution_count": null,
      "outputs": []
    },
    {
      "cell_type": "code",
      "metadata": {
        "id": "qdT-6xX2hsFf"
      },
      "source": [
        "# part 2\n",
        "\n",
        "\"\"\"\n",
        "down X increases your aim by X units.\n",
        "up X decreases your aim by X units.\n",
        "forward X does two things:\n",
        "    It increases your horizontal position by X units.\n",
        "    It increases your depth by your aim multiplied by X.\n",
        "\"\"\"\n",
        "\n",
        "input_list_test = [\n",
        " 'forward', '5', \n",
        " 'down', '5',\n",
        " 'forward', '8',\n",
        " 'up', '3',\n",
        " 'down', '8',\n",
        " 'forward', '2',\n",
        "]\n",
        "\n",
        "horizontal = 0\n",
        "depth = 0\n",
        "aim = 0\n",
        "\n",
        "for i in range(0, len(input_list_test) - 1, 2):\n",
        "  direction = input_list_test[i]\n",
        "  move = int(input_list_test[i+1])\n",
        "  print(direction, move)\n",
        "\n",
        "  if (direction == 'forward'):\n",
        "    horizontal += move\n",
        "    depth = depth + (aim * move)\n",
        "\n",
        "  elif (direction == 'down'):\n",
        "    aim += move\n",
        "  elif (direction == 'up'):\n",
        "    aim -= move\n",
        "  \n",
        "print(horizontal, depth, ' -- ', horizontal*depth)\n",
        "\n",
        "### \n",
        "\n",
        "horizontal = 0\n",
        "depth = 0\n",
        "aim = 0\n",
        "\n",
        "for i in range(0, len(input_list) - 1, 2):\n",
        "  direction = input_list[i]\n",
        "  move = int(input_list[i+1])\n",
        "  # print(direction, move)\n",
        "\n",
        "  if (direction == 'forward'):\n",
        "    horizontal += move\n",
        "    depth = depth + (aim * move)\n",
        "\n",
        "  elif (direction == 'down'):\n",
        "    aim += move\n",
        "  elif (direction == 'up'):\n",
        "    aim -= move\n",
        "  \n",
        "print(horizontal, depth, ' -- ', horizontal*depth)"
      ],
      "execution_count": null,
      "outputs": []
    }
  ]
}